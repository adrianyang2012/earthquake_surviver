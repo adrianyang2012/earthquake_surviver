{
  "nbformat": 4,
  "nbformat_minor": 0,
  "metadata": {
    "colab": {
      "private_outputs": true,
      "provenance": [],
      "authorship_tag": "ABX9TyMC9DqOtDPQ31iWdP8Ymx0m",
      "include_colab_link": true
    },
    "kernelspec": {
      "name": "python3",
      "display_name": "Python 3"
    },
    "language_info": {
      "name": "python"
    }
  },
  "cells": [
    {
      "cell_type": "markdown",
      "metadata": {
        "id": "view-in-github",
        "colab_type": "text"
      },
      "source": [
        "<a href=\"https://colab.research.google.com/github/adrianyang2012/earthquake_surviver/blob/main/physics_thing.ipynb\" target=\"_parent\"><img src=\"https://colab.research.google.com/assets/colab-badge.svg\" alt=\"Open In Colab\"/></a>"
      ]
    },
    {
      "cell_type": "code",
      "execution_count": null,
      "metadata": {
        "id": "n3n3SnSAmUEb"
      },
      "outputs": [],
      "source": [
        "import matplotlib.pyplot as plt\n",
        "import random\n",
        "w = 1\n",
        "cost = 0\n",
        "magnuitude = 0\n",
        "recording = []\n",
        "#options\n",
        "floors = 8\n",
        "x1 = -8\n",
        "x2 = 5\n",
        "orginal_x1 = x1\n",
        "orginal_x2 = x2\n",
        "orginal_average = (x1+x2)/2\n",
        "final_magnutiude = 9\n",
        "with_wind_damper = 1\n",
        "other_in_building_cost = 30000\n",
        "t = 5\n",
        "#options\n",
        "x = 0.2\n",
        "x = x + floors * 0.05\n",
        "if with_wind_damper:\n",
        "  x = 0.01\n",
        "  x = x + floors * 0.002\n",
        "\n",
        "cost += with_wind_damper*1000000 + floors * 10000 + (x2-x1) * 50 + other_in_building_cost\n",
        "for i in range(0,t):\n",
        "  plt.title(f\"{i+1} seconds\")\n",
        "  plt.scatter(orginal_average, floors + 4,s = 100)\n",
        "  plt.plot([x1,x1],[0,floors])\n",
        "  plt.plot([x2,x2],[0,floors])\n",
        "  plt.plot([x1,x2],[floors,floors])\n",
        "  plt.plot([x1,x2],[0,0])\n",
        "  if with_wind_damper:\n",
        "    plt.plot([(x1+x2)/2,(orginal_x1+orginal_x2)/2],[floors, floors-floors*0.2])\n",
        "    plt.scatter((orginal_x1+orginal_x2)/2, floors - floors*0.2,s = 200)\n",
        "  plt.scatter((x1+x2)/2,floors/2,s = 300)\n",
        "  plt.scatter(15,15,c = 'white')\n",
        "  plt.scatter(-15,-15, c = 'white')\n",
        "  plt.show()\n",
        "  magnuitude += final_magnutiude/t\n",
        "  if random.randint(0,1) == 1:\n",
        "    x1+=magnuitude*x\n",
        "    x2+=magnuitude*x\n",
        "  else:\n",
        "    x1-=magnuitude*x\n",
        "    x2-=magnuitude*x\n",
        "  if x1 < orginal_x1-3.5 or x2 > orginal_x2 + 3.5:\n",
        "    print('\\n')\n",
        "    print('the building is broken!')\n",
        "    print(f'you lost: {cost} US dollars! or {cost*30} tawain dollars.')\n",
        "    w = 0\n",
        "    print('\\n')\n",
        "    break\n",
        "  recording.append(x1)\n",
        "plt.title('review')\n",
        "plt.plot(recording)\n",
        "print(magnuitude)\n",
        "if w:\n",
        "  print('you survived the earthquake!')\n",
        "  print(f'you saved: {cost} US dollars! or {cost*30} tawain dollars.')\n",
        "print(f'you moved: {abs((1-x2)/1000)} kilometers')"
      ]
    },
    {
      "cell_type": "code",
      "source": [
        "0.000005*1000"
      ],
      "metadata": {
        "id": "gFq92KGusP4Q"
      },
      "execution_count": null,
      "outputs": []
    }
  ]
}